{
 "cells": [
  {
   "cell_type": "markdown",
   "metadata": {},
   "source": [
    "# Max of two means Problem"
   ]
  },
  {
   "cell_type": "markdown",
   "metadata": {},
   "source": [
    "The problem:\n",
    "\n",
    "Imagine we have two normally distributed random variables. They have mean and variance $\\mu_1$, $\\sigma_1$ and $\\mu_2$, $\\sigma_2$ repectively.\n",
    "\n",
    "We then draw once each from both of these distributions and take the max of these two numbers. The procedure is itself a random varible. What is the mean of this second distribution, and how much does it differ from the naive estimate of the mean which is:\n",
    "\n",
    "$$max(\\mu_1, \\mu_2)$$"
   ]
  },
  {
   "cell_type": "markdown",
   "metadata": {},
   "source": [
    "### The Maths"
   ]
  },
  {
   "cell_type": "markdown",
   "metadata": {},
   "source": [
    "Let D1 be the first distrubution, and D2 be the second.\n",
    "\n",
    "D_max is the distrubition that we get from sampling from both distrubtions and taking the max of this.\n",
    "\n",
    "$$D_1(x) = \\phi_{\\mu_1, \\sigma_1}(x)$$\n",
    "\n",
    "where $\\phi$ is the normal distribution with given mean and variance. Similarly for D2.\n",
    "\n",
    "Now we can define D_max. To get a value of x for D_max there are two ways we can do this. We get x for D1 and less than or eqaul to x for D2, or the other way round. So more formally.\n",
    "\n",
    "$$D_{max}(x) = D_1(x)D_2(x'<x) + D_2(x)D_1(x'<x)$$\n",
    "\n",
    "which just says what we have above.\n",
    "\n",
    "Now we can express $D_2(x'<x)$ is infact the cumulative normal distribution, which we usually express with a capital phi, as so:\n",
    "\n",
    "$$D_2(x'<x) = \\Phi(x)$$"
   ]
  },
  {
   "cell_type": "markdown",
   "metadata": {},
   "source": [
    "This $\\Phi$ is the integral of the normal distribution, or the CDF, sometimes called the error function.\n",
    "\n",
    "Now we can express the mean of $D_{max}$\n",
    "\n",
    "$$\\bar{D}_{max}=\\int_{-\\inf}^{\\inf}{xD_{max}(x)}dx\n",
    "$$\n",
    "\n",
    "$$=\\int_{-\\inf}^{\\inf}{x(D_1(x)D_2(x'<x) + D_2(x)D_1(x'<x))}dx$$\n",
    "\n",
    "$$=\\int_{-\\inf}^{\\inf}{x(\\phi_1(x)\\Phi_2(x) + \\phi_2(x)\\Phi_1(x))}dx$$"
   ]
  },
  {
   "cell_type": "markdown",
   "metadata": {},
   "source": [
    "Maybe the above can be simplified via integration by parts?\n",
    "\n",
    "also bare in mind that:\n",
    "\n",
    "$$\\int_{-\\inf}^{\\inf}{x(\\phi_1(x))}dx = \\mu_1$$\n",
    "\n",
    "Now what we wanted was the error in the naive estimate, so finally this is:\n",
    "\n",
    "$$Error = max(\\mu_1, \\mu_2) - \\int_{-\\inf}^{\\inf}{x(\\phi_1(x)\\Phi_2(x) + \\phi_2(x)\\Phi_1(x))}dx$$"
   ]
  },
  {
   "cell_type": "markdown",
   "metadata": {},
   "source": [
    "Now, either we can simplify the integral, or we can numerically integrate it to get the answer.\n",
    "\n",
    "Is this right? Did I make a mistake?"
   ]
  },
  {
   "cell_type": "markdown",
   "metadata": {},
   "source": [
    "### Simulating the problem"
   ]
  },
  {
   "cell_type": "markdown",
   "metadata": {},
   "source": [
    "Let's try to simulate the issue."
   ]
  },
  {
   "cell_type": "code",
   "execution_count": 7,
   "metadata": {},
   "outputs": [],
   "source": [
    "import numpy as np\n",
    "from numpy import random"
   ]
  },
  {
   "cell_type": "code",
   "execution_count": 156,
   "metadata": {},
   "outputs": [],
   "source": [
    "mu1, mu2 = 0.2, 1.\n",
    "# Not sure what there were supposed to be?\n",
    "sigma1, sigma2 = 0.1, 1.6"
   ]
  },
  {
   "cell_type": "code",
   "execution_count": 157,
   "metadata": {},
   "outputs": [],
   "source": [
    "def get_error():\n",
    "\n",
    "    sample_1 = random.normal(mu1, sigma1)\n",
    "    sample_2 = random.normal(mu2, sigma2)\n",
    "\n",
    "    mean_max = max(sample_1, sample_2)\n",
    "    naive_estimate = max(mu1, mu2)\n",
    "\n",
    "    return naive_estimate - mean_max"
   ]
  },
  {
   "cell_type": "code",
   "execution_count": 158,
   "metadata": {},
   "outputs": [],
   "source": [
    "errors = [get_error() for _ in range(10000000)]"
   ]
  },
  {
   "cell_type": "code",
   "execution_count": 159,
   "metadata": {},
   "outputs": [
    {
     "data": {
      "text/plain": [
       "-0.3174474929888464"
      ]
     },
     "execution_count": 159,
     "metadata": {},
     "output_type": "execute_result"
    }
   ],
   "source": [
    "measured_error = np.mean(errors)\n",
    "measured_error"
   ]
  },
  {
   "cell_type": "code",
   "execution_count": 160,
   "metadata": {},
   "outputs": [],
   "source": [
    "import matplotlib.pyplot as plt\n",
    "\n",
    "%matplotlib inline"
   ]
  },
  {
   "cell_type": "code",
   "execution_count": 161,
   "metadata": {},
   "outputs": [
    {
     "data": {
      "text/plain": [
       "(array([2.000000e+00, 5.000000e+00, 3.100000e+01, 9.500000e+01,\n",
       "        3.580000e+02, 1.109000e+03, 3.216000e+03, 8.285000e+03,\n",
       "        2.012800e+04, 4.439000e+04, 8.919600e+04, 1.652300e+05,\n",
       "        2.818220e+05, 4.431240e+05, 6.368970e+05, 8.414290e+05,\n",
       "        1.018641e+06, 1.135072e+06, 1.161753e+06, 2.788414e+06,\n",
       "        1.360803e+06]),\n",
       " array([-8.56436152, -8.09545488, -7.62654823, -7.15764159, -6.68873495,\n",
       "        -6.2198283 , -5.75092166, -5.28201502, -4.81310837, -4.34420173,\n",
       "        -3.87529509, -3.40638845, -2.9374818 , -2.46857516, -1.99966852,\n",
       "        -1.53076187, -1.06185523, -0.59294859, -0.12404194,  0.3448647 ,\n",
       "         0.81377134,  1.28267799]),\n",
       " <a list of 21 Patch objects>)"
      ]
     },
     "execution_count": 161,
     "metadata": {},
     "output_type": "execute_result"
    },
    {
     "data": {
      "image/png": "[encoded data removed]",
      "text/plain": [
       "<Figure size 432x288 with 1 Axes>"
      ]
     },
     "metadata": {
      "needs_background": "light"
     },
     "output_type": "display_data"
    }
   ],
   "source": [
    "plt.hist(errors, bins=21)"
   ]
  },
  {
   "cell_type": "markdown",
   "metadata": {},
   "source": [
    "### Get the error from the integral"
   ]
  },
  {
   "cell_type": "markdown",
   "metadata": {},
   "source": [
    "Now let's see if we can get the error from the integral."
   ]
  },
  {
   "cell_type": "code",
   "execution_count": 162,
   "metadata": {},
   "outputs": [],
   "source": [
    "from scipy.stats import norm"
   ]
  },
  {
   "cell_type": "code",
   "execution_count": 163,
   "metadata": {},
   "outputs": [
    {
     "data": {
      "text/plain": [
       "0.022159242059690058"
      ]
     },
     "execution_count": 163,
     "metadata": {},
     "output_type": "execute_result"
    }
   ],
   "source": [
    "x = 0.5\n",
    "x*(norm.pdf(x, mu1, sigma1))"
   ]
  },
  {
   "cell_type": "code",
   "execution_count": 164,
   "metadata": {},
   "outputs": [],
   "source": [
    "def integrand(x, mu1, mu2, sigma1, sigma2):\n",
    "    return x*(norm.pdf(x, mu1, sigma1)*norm.cdf(x, mu2, sigma2)\n",
    "              + norm.pdf(x, mu2, sigma2)*norm.cdf(x, mu1, sigma1)\n",
    "             )"
   ]
  },
  {
   "cell_type": "code",
   "execution_count": 165,
   "metadata": {},
   "outputs": [],
   "source": [
    "x = np.linspace(-10, 10, 1001)\n",
    "y = [integrand(xx, mu1, mu2, sigma1, sigma2) for xx in x]"
   ]
  },
  {
   "cell_type": "code",
   "execution_count": 166,
   "metadata": {},
   "outputs": [
    {
     "data": {
      "text/plain": [
       "[<matplotlib.lines.Line2D at 0x7f892c559400>]"
      ]
     },
     "execution_count": 166,
     "metadata": {},
     "output_type": "execute_result"
    },
    {
     "data": {
      "image/png": "[encoded data removed]",
      "text/plain": [
       "<Figure size 432x288 with 1 Axes>"
      ]
     },
     "metadata": {
      "needs_background": "light"
     },
     "output_type": "display_data"
    }
   ],
   "source": [
    "plt.plot(x, y)"
   ]
  },
  {
   "cell_type": "markdown",
   "metadata": {},
   "source": [
    "Now we could integrate this function. We have to do over the infinite range, but just eyeballing the function it looks like it decays quickly, so we won't have to actually go to far to get a good approximation. Let's try this."
   ]
  },
  {
   "cell_type": "code",
   "execution_count": 167,
   "metadata": {},
   "outputs": [],
   "source": [
    "from scipy.integrate import quad"
   ]
  },
  {
   "cell_type": "markdown",
   "metadata": {},
   "source": [
    "So integrate the above function from -10 to 10."
   ]
  },
  {
   "cell_type": "code",
   "execution_count": 168,
   "metadata": {},
   "outputs": [
    {
     "data": {
      "text/plain": [
       "1.3175737960188845"
      ]
     },
     "execution_count": 168,
     "metadata": {},
     "output_type": "execute_result"
    }
   ],
   "source": [
    "quad(lambda x: integrand(x, mu1, mu2, sigma1, sigma2), -10, 10)[0]"
   ]
  },
  {
   "cell_type": "markdown",
   "metadata": {},
   "source": [
    "See if the answer changes radically if I extend the tails:"
   ]
  },
  {
   "cell_type": "code",
   "execution_count": 169,
   "metadata": {},
   "outputs": [
    {
     "data": {
      "text/plain": [
       "1.3175738912660053"
      ]
     },
     "execution_count": 169,
     "metadata": {},
     "output_type": "execute_result"
    }
   ],
   "source": [
    "quad(lambda x: integrand(x, mu1, mu2, sigma1, sigma2), -100, 100)[0]"
   ]
  },
  {
   "cell_type": "markdown",
   "metadata": {},
   "source": [
    "It doesn't!"
   ]
  },
  {
   "cell_type": "markdown",
   "metadata": {},
   "source": [
    "So now the error term:"
   ]
  },
  {
   "cell_type": "code",
   "execution_count": 170,
   "metadata": {},
   "outputs": [],
   "source": [
    "computed_error = max(mu1, mu2) - quad(lambda x: integrand(x, mu1, mu2, sigma1, sigma2), -10, 10)[0]"
   ]
  },
  {
   "cell_type": "code",
   "execution_count": 171,
   "metadata": {},
   "outputs": [
    {
     "data": {
      "text/plain": [
       "(-0.3174474929888464, -0.31757379601888447)"
      ]
     },
     "execution_count": 171,
     "metadata": {},
     "output_type": "execute_result"
    }
   ],
   "source": [
    "measured_error, computed_error"
   ]
  },
  {
   "cell_type": "markdown",
   "metadata": {},
   "source": [
    "They are pretty damn close man!"
   ]
  }
 ],
 "metadata": {
  "kernelspec": {
   "display_name": "Python 3",
   "language": "python",
   "name": "python3"
  },
  "language_info": {
   "codemirror_mode": {
    "name": "ipython",
    "version": 3
   },
   "file_extension": ".py",
   "mimetype": "text/x-python",
   "name": "python",
   "nbconvert_exporter": "python",
   "pygments_lexer": "ipython3",
   "version": "3.8.3"
  }
 },
 "nbformat": 4,
 "nbformat_minor": 4
}
