{
 "cells": [
  {
   "cell_type": "markdown",
   "metadata": {},
   "source": [
    "# Max of two means Problem"
   ]
  },
  {
   "cell_type": "markdown",
   "metadata": {},
   "source": [
    "The problem:\n",
    "\n",
    "Imagine we have two normally distributed random variables. They have mean and variance $\\mu_1$, $\\sigma_1$ and $\\mu_2$, $\\sigma_2$ repectively.\n",
    "\n",
    "We then draw once each from both of these distributions and take the max of these two numbers. The procedure is itself a random varible. What is the mean of this second distribution, and how much does it differ from the naive estimate of the mean which is:\n",
    "\n",
    "$$max(\\mu_1, \\mu_2)$$"
   ]
  },
  {
   "cell_type": "markdown",
   "metadata": {},
   "source": [
    "### The Maths"
   ]
  },
  {
   "cell_type": "markdown",
   "metadata": {},
   "source": [
    "Let D1 be the first distrubution, and D2 be the second.\n",
    "\n",
    "D_max is the distrubition that we get from sampling from both distrubtions and taking the max of this.\n",
    "\n",
    "$$D_1(x) = \\phi_{\\mu_1, \\sigma_1}(x)$$\n",
    "\n",
    "where $\\phi$ is the normal distribution with given mean and variance. Similarly for D2.\n",
    "\n",
    "Now we can define D_max. To get a value of x for D_max there are two ways we can do this. We get x for D1 and less than or eqaul to x for D2, or the other way round. So more formally.\n",
    "\n",
    "$$D_{max}(x) = D_1(x)D_2(x'<x) + D_2(x)D_1(x'<x)$$\n",
    "\n",
    "which just says what we have above.\n",
    "\n",
    "Now we can express $D_2(x'<x)$ is infact the cumulative normal distribution, which we usually express with a capital phi, as so:\n",
    "\n",
    "$$D_2(x'<x) = \\Phi(x)$$"
   ]
  },
  {
   "cell_type": "markdown",
   "metadata": {},
   "source": [
    "This $\\Phi$ is the integral of the normal distribution, or the CDF, sometimes called the error function.\n",
    "\n",
    "Now we can express the mean of $D_{max}$\n",
    "\n",
    "$$\\bar{D}_{max}=\\int_{-\\inf}^{\\inf}{xD_{max}(x)}dx\n",
    "$$\n",
    "\n",
    "$$=\\int_{-\\inf}^{\\inf}{x(D_1(x)D_2(x'<x) + D_2(x)D_1(x'<x))}dx$$\n",
    "\n",
    "$$=\\int_{-\\inf}^{\\inf}{x(\\phi_1(x)\\Phi_2(x) + \\phi_2(x)\\Phi_1(x))}dx$$"
   ]
  },
  {
   "cell_type": "markdown",
   "metadata": {},
   "source": [
    "Maybe the above can be simplified via integration by parts?\n",
    "\n",
    "also bare in mind that:\n",
    "\n",
    "$$\\int_{-\\inf}^{\\inf}{x(\\phi_1(x))}dx = \\mu_1$$\n",
    "\n",
    "Now what we wanted was the error in the naive estimate, so finally this is:\n",
    "\n",
    "$$Error = max(\\mu_1, \\mu_2) - \\int_{-\\inf}^{\\inf}{x(\\phi_1(x)\\Phi_2(x) + \\phi_2(x)\\Phi_1(x))}dx$$"
   ]
  },
  {
   "cell_type": "markdown",
   "metadata": {},
   "source": [
    "Now, either we can simplify the integral, or we can numerically integrate it to get the answer.\n",
    "\n",
    "Is this right? Did I make a mistake?"
   ]
  },
  {
   "cell_type": "markdown",
   "metadata": {},
   "source": [
    "### Simulating the problem"
   ]
  },
  {
   "cell_type": "markdown",
   "metadata": {},
   "source": [
    "Let's try to simulate the issue."
   ]
  },
  {
   "cell_type": "code",
   "execution_count": 7,
   "metadata": {},
   "outputs": [],
   "source": [
    "import numpy as np\n",
    "from numpy import random"
   ]
  },
  {
   "cell_type": "code",
   "execution_count": 134,
   "metadata": {},
   "outputs": [],
   "source": [
    "mu1, mu2 = 0.5, 1.\n",
    "# Not sure what there were supposed to be?\n",
    "sigma1, sigma2 = 1, 1.6"
   ]
  },
  {
   "cell_type": "code",
   "execution_count": 149,
   "metadata": {},
   "outputs": [],
   "source": [
    "def get_error():\n",
    "\n",
    "    sample_1 = random.normal(mu1, sigma1)\n",
    "    sample_2 = random.normal(mu2, sigma2)\n",
    "\n",
    "    mean_max = max(sample_1, sample_2)\n",
    "    naive_estimate = max(mu1, mu2)\n",
    "\n",
    "    return naive_estimate - mean_max"
   ]
  },
  {
   "cell_type": "code",
   "execution_count": 150,
   "metadata": {},
   "outputs": [],
   "source": [
    "errors = [get_error() for _ in range(10000000)]"
   ]
  },
  {
   "cell_type": "code",
   "execution_count": 153,
   "metadata": {},
   "outputs": [
    {
     "data": {
      "text/plain": [
       "-0.5283604047028515"
      ]
     },
     "execution_count": 153,
     "metadata": {},
     "output_type": "execute_result"
    }
   ],
   "source": [
    "measured_error = np.mean(errors)\n",
    "measured_error"
   ]
  },
  {
   "cell_type": "code",
   "execution_count": 138,
   "metadata": {},
   "outputs": [],
   "source": [
    "import matplotlib.pyplot as plt\n",
    "\n",
    "%matplotlib inline"
   ]
  },
  {
   "cell_type": "code",
   "execution_count": 139,
   "metadata": {},
   "outputs": [
    {
     "data": {
      "text/plain": [
       "(array([1.000000e+00, 2.300000e+01, 2.400000e+02, 1.310000e+03,\n",
       "        6.190000e+03, 2.432900e+04, 8.219700e+04, 2.266820e+05,\n",
       "        5.319730e+05, 1.019171e+06, 1.592566e+06, 1.979356e+06,\n",
       "        1.912215e+06, 1.407538e+06, 7.791700e+05, 3.175360e+05,\n",
       "        9.531400e+04, 2.055200e+04, 3.218000e+03, 3.780000e+02,\n",
       "        4.100000e+01]),\n",
       " array([-5.32625949, -4.90168787, -4.47711625, -4.05254463, -3.62797302,\n",
       "        -3.2034014 , -2.77882978, -2.35425817, -1.92968655, -1.50511493,\n",
       "        -1.08054332, -0.6559717 , -0.23140008,  0.19317153,  0.61774315,\n",
       "         1.04231477,  1.46688639,  1.891458  ,  2.31602962,  2.74060124,\n",
       "         3.16517285,  3.58974447]),\n",
       " <a list of 21 Patch objects>)"
      ]
     },
     "execution_count": 139,
     "metadata": {},
     "output_type": "execute_result"
    },
    {
     "data": {
      "image/png": "[encoded data removed]",
      "text/plain": [
       "<Figure size 432x288 with 1 Axes>"
      ]
     },
     "metadata": {
      "needs_background": "light"
     },
     "output_type": "display_data"
    }
   ],
   "source": [
    "plt.hist(errors, bins=21)"
   ]
  },
  {
   "cell_type": "markdown",
   "metadata": {},
   "source": [
    "OK. That's weird. I get that the error is actually zero! Or so it seems from this plot."
   ]
  },
  {
   "cell_type": "markdown",
   "metadata": {},
   "source": [
    "Now let's see if we can get the error from the integral."
   ]
  },
  {
   "cell_type": "code",
   "execution_count": 140,
   "metadata": {},
   "outputs": [],
   "source": [
    "from scipy.stats import norm"
   ]
  },
  {
   "cell_type": "code",
   "execution_count": 141,
   "metadata": {},
   "outputs": [
    {
     "data": {
      "text/plain": [
       "0.19947114020071635"
      ]
     },
     "execution_count": 141,
     "metadata": {},
     "output_type": "execute_result"
    }
   ],
   "source": [
    "x = 0.5\n",
    "x*(norm.pdf(x, mu1, sigma1))"
   ]
  },
  {
   "cell_type": "code",
   "execution_count": 142,
   "metadata": {},
   "outputs": [],
   "source": [
    "def integrand(x, mu1, mu2, sigma1, sigma2):\n",
    "    return x*(norm.pdf(x, mu1, sigma1)*norm.cdf(x, mu2, sigma2)\n",
    "              + norm.pdf(x, mu2, sigma2)*norm.cdf(x, mu1, sigma1)\n",
    "             )"
   ]
  },
  {
   "cell_type": "code",
   "execution_count": 143,
   "metadata": {},
   "outputs": [],
   "source": [
    "x = np.linspace(-10, 10, 1001)\n",
    "y = [integrand(xx, mu1, mu2, sigma1, sigma2) for xx in x]"
   ]
  },
  {
   "cell_type": "code",
   "execution_count": 144,
   "metadata": {},
   "outputs": [
    {
     "data": {
      "text/plain": [
       "[<matplotlib.lines.Line2D at 0x7f893bdaea90>]"
      ]
     },
     "execution_count": 144,
     "metadata": {},
     "output_type": "execute_result"
    },
    {
     "data": {
      "image/png": "[encoded data removed]",
      "text/plain": [
       "<Figure size 432x288 with 1 Axes>"
      ]
     },
     "metadata": {
      "needs_background": "light"
     },
     "output_type": "display_data"
    }
   ],
   "source": [
    "plt.plot(x, y)"
   ]
  },
  {
   "cell_type": "markdown",
   "metadata": {},
   "source": [
    "Now we could integrate this function. We have to do over the infinite range, but just eyeballing the function it looks like it decays quickly, so we won't have to actually go to far to get a good approximation. Let's try this."
   ]
  },
  {
   "cell_type": "code",
   "execution_count": 145,
   "metadata": {},
   "outputs": [],
   "source": [
    "from scipy.integrate import quad"
   ]
  },
  {
   "cell_type": "markdown",
   "metadata": {},
   "source": [
    "So integrate the above function from -10 to 10."
   ]
  },
  {
   "cell_type": "code",
   "execution_count": 146,
   "metadata": {},
   "outputs": [
    {
     "data": {
      "text/plain": [
       "1.5289989773721042"
      ]
     },
     "execution_count": 146,
     "metadata": {},
     "output_type": "execute_result"
    }
   ],
   "source": [
    "quad(lambda x: integrand(x, mu1, mu2, sigma1, sigma2), -10, 10)[0]"
   ]
  },
  {
   "cell_type": "markdown",
   "metadata": {},
   "source": [
    "See if the answer changes radically if I extend the tails:"
   ]
  },
  {
   "cell_type": "code",
   "execution_count": 147,
   "metadata": {},
   "outputs": [
    {
     "data": {
      "text/plain": [
       "1.528999072619225"
      ]
     },
     "execution_count": 147,
     "metadata": {},
     "output_type": "execute_result"
    }
   ],
   "source": [
    "quad(lambda x: integrand(x, mu1, mu2, sigma1, sigma2), -100, 100)[0]"
   ]
  },
  {
   "cell_type": "markdown",
   "metadata": {},
   "source": [
    "It doesn't!"
   ]
  },
  {
   "cell_type": "markdown",
   "metadata": {},
   "source": [
    "So now the error term:"
   ]
  },
  {
   "cell_type": "code",
   "execution_count": 154,
   "metadata": {},
   "outputs": [],
   "source": [
    "computed_error = max(mu1, mu2) - quad(lambda x: integrand(x, mu1, mu2, sigma1, sigma2), -10, 10)[0]"
   ]
  },
  {
   "cell_type": "code",
   "execution_count": 155,
   "metadata": {},
   "outputs": [
    {
     "data": {
      "text/plain": [
       "(-0.5283604047028515, -0.5289989773721042)"
      ]
     },
     "execution_count": 155,
     "metadata": {},
     "output_type": "execute_result"
    }
   ],
   "source": [
    "measured_error, computed_error"
   ]
  },
  {
   "cell_type": "markdown",
   "metadata": {},
   "source": [
    "They are pretty damn close man!"
   ]
  }
 ],
 "metadata": {
  "kernelspec": {
   "display_name": "Python 3",
   "language": "python",
   "name": "python3"
  },
  "language_info": {
   "codemirror_mode": {
    "name": "ipython",
    "version": 3
   },
   "file_extension": ".py",
   "mimetype": "text/x-python",
   "name": "python",
   "nbconvert_exporter": "python",
   "pygments_lexer": "ipython3",
   "version": "3.8.3"
  }
 },
 "nbformat": 4,
 "nbformat_minor": 4
}
