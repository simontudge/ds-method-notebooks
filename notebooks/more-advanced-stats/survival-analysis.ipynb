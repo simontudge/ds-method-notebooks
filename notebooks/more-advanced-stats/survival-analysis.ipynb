{
 "cells": [
  {
   "cell_type": "markdown",
   "metadata": {},
   "source": [
    "# Survival Analysis"
   ]
  },
  {
   "cell_type": "markdown",
   "metadata": {},
   "source": [
    "This is a tool or set of connected tools and techniques that look at survival data. We look at subjects and see what happens to them over a certain time. In general we asked if they have survived upto a certain point. Survival does not have to be taken literally, it could be say a Netflix customer, and survival means that they have not (yet) abandoned their subsription. It could be a hotel booking that is not yet cancelled, or it could be literal survival in the case of, say, study cancer survival rates.\n",
    "\n",
    "For each subject we have an observation, after t units of time this subject 'died'. Otherwise by the end of the study period the subject survived. This is the key problem of suvival analysis, in that for those that are still alive, we do not have knowledge of when they (will) die. This means we can't do the usual simple statistical tests on the data and must rely on something more sophisticated."
   ]
  },
  {
   "cell_type": "markdown",
   "metadata": {},
   "source": [
    "### Basic ideas"
   ]
  },
  {
   "cell_type": "markdown",
   "metadata": {},
   "source": [
    "Let's take a look at the module that can do this in python. It's called `lifelines`"
   ]
  },
  {
   "cell_type": "code",
   "execution_count": 1,
   "metadata": {},
   "outputs": [],
   "source": [
    "import lifelines as ll"
   ]
  },
  {
   "cell_type": "markdown",
   "metadata": {},
   "source": [
    "Here is a sample dataset that is included with the package."
   ]
  },
  {
   "cell_type": "code",
   "execution_count": 3,
   "metadata": {},
   "outputs": [],
   "source": [
    "from lifelines.datasets import load_waltons\n",
    "df = load_waltons()"
   ]
  },
  {
   "cell_type": "code",
   "execution_count": 4,
   "metadata": {},
   "outputs": [
    {
     "data": {
      "text/html": [
       "<div>\n",
       "<style scoped>\n",
       "    .dataframe tbody tr th:only-of-type {\n",
       "        vertical-align: middle;\n",
       "    }\n",
       "\n",
       "    .dataframe tbody tr th {\n",
       "        vertical-align: top;\n",
       "    }\n",
       "\n",
       "    .dataframe thead th {\n",
       "        text-align: right;\n",
       "    }\n",
       "</style>\n",
       "<table border=\"1\" class=\"dataframe\">\n",
       "  <thead>\n",
       "    <tr style=\"text-align: right;\">\n",
       "      <th></th>\n",
       "      <th>T</th>\n",
       "      <th>E</th>\n",
       "      <th>group</th>\n",
       "    </tr>\n",
       "  </thead>\n",
       "  <tbody>\n",
       "    <tr>\n",
       "      <th>0</th>\n",
       "      <td>6.0</td>\n",
       "      <td>1</td>\n",
       "      <td>miR-137</td>\n",
       "    </tr>\n",
       "    <tr>\n",
       "      <th>1</th>\n",
       "      <td>13.0</td>\n",
       "      <td>1</td>\n",
       "      <td>miR-137</td>\n",
       "    </tr>\n",
       "    <tr>\n",
       "      <th>2</th>\n",
       "      <td>13.0</td>\n",
       "      <td>1</td>\n",
       "      <td>miR-137</td>\n",
       "    </tr>\n",
       "    <tr>\n",
       "      <th>3</th>\n",
       "      <td>13.0</td>\n",
       "      <td>1</td>\n",
       "      <td>miR-137</td>\n",
       "    </tr>\n",
       "    <tr>\n",
       "      <th>4</th>\n",
       "      <td>19.0</td>\n",
       "      <td>1</td>\n",
       "      <td>miR-137</td>\n",
       "    </tr>\n",
       "  </tbody>\n",
       "</table>\n",
       "</div>"
      ],
      "text/plain": [
       "      T  E    group\n",
       "0   6.0  1  miR-137\n",
       "1  13.0  1  miR-137\n",
       "2  13.0  1  miR-137\n",
       "3  13.0  1  miR-137\n",
       "4  19.0  1  miR-137"
      ]
     },
     "execution_count": 4,
     "metadata": {},
     "output_type": "execute_result"
    }
   ],
   "source": [
    "df.head()"
   ]
  },
  {
   "cell_type": "markdown",
   "metadata": {},
   "source": [
    "How to interpret this dataset? It's about flies raised in the lab. There is one control group and one that has a certain gentic variant, this is indicated in 'group'.\n",
    "\n",
    "T refers to the time in which the fly died, if E is 1.\n",
    "\n",
    "If E is zero this is the last time at which the fly was seen alive. It has either not died, or for some reason we don't know (it escape for example, or was lost)."
   ]
  },
  {
   "cell_type": "markdown",
   "metadata": {},
   "source": [
    "### Explore"
   ]
  },
  {
   "cell_type": "markdown",
   "metadata": {},
   "source": [
    "Exploring some functionality, will write up some more conrete conclusions once I understand this better."
   ]
  },
  {
   "cell_type": "code",
   "execution_count": 35,
   "metadata": {},
   "outputs": [
    {
     "data": {
      "text/plain": [
       "<matplotlib.axes._subplots.AxesSubplot at 0x7fb1a008b6d0>"
      ]
     },
     "execution_count": 35,
     "metadata": {},
     "output_type": "execute_result"
    },
    {
     "data": {
      "image/png": "[encoded data removed]",
      "text/plain": [
       "<Figure size 432x288 with 1 Axes>"
      ]
     },
     "metadata": {
      "needs_background": "light"
     },
     "output_type": "display_data"
    }
   ],
   "source": [
    "kmf = ll.KaplanMeierFitter()\n",
    "kmf.fit(df['T'], event_observed=df['E'])\n",
    "kmf.plot()"
   ]
  },
  {
   "cell_type": "markdown",
   "metadata": {},
   "source": [
    "This gives us the probability of surviving for a given amount of time (I think in day probably). The time is relative to the birth of each fly (which is not the same day as they are born on different days). At time t=0 the survival is 1, everyone is alive to begin with by definition.\n",
    "\n",
    "As each even occurs the survival function jumps dicretely downwards.\n",
    "\n",
    "When a subject goes missing from the data they are not counted as dead, but they cease to be counted in the denominator.\n",
    "\n",
    "This is a basic way in which to observe this kind of data.\n",
    "\n",
    "Note that I'm looking at the population as a whole, and not yet splitting into the two groups."
   ]
  },
  {
   "cell_type": "markdown",
   "metadata": {},
   "source": [
    "Let's see if we truely understand this by trying to recreate it ourselves (at least the point estimate, don't use the error for now)."
   ]
  },
  {
   "cell_type": "code",
   "execution_count": 50,
   "metadata": {},
   "outputs": [],
   "source": [
    "total = len(df)\n",
    "total_known = total\n",
    "total_dead = 0\n",
    "ts = [0]\n",
    "ps = [1]\n",
    "\n",
    "previous = 1\n",
    "\n",
    "df = df.sort_values('T')\n",
    "for _, row in df.iterrows():\n",
    "    E = row['E']\n",
    "    time = row['T']\n",
    "    \n",
    "\n",
    "\n",
    "    ts.append(time)\n",
    "    ps.append(previous)\n",
    "    current = 1 - total_dead/total_known\n",
    "    \n",
    "    if E == 0:\n",
    "        total_known -= 1\n",
    "    else:\n",
    "        total_dead += 1\n",
    "\n",
    "    ts.append(time)\n",
    "    ps.append(current)\n",
    "    \n",
    "    previous = current\n",
    "    \n",
    "    \n",
    "        "
   ]
  },
  {
   "cell_type": "code",
   "execution_count": 51,
   "metadata": {},
   "outputs": [],
   "source": [
    "import matplotlib.pyplot as plt"
   ]
  },
  {
   "cell_type": "code",
   "execution_count": 52,
   "metadata": {
    "scrolled": true
   },
   "outputs": [
    {
     "data": {
      "text/plain": [
       "[<matplotlib.lines.Line2D at 0x7fb1a0c45d90>]"
      ]
     },
     "execution_count": 52,
     "metadata": {},
     "output_type": "execute_result"
    },
    {
     "data": {
      "image/png": "[encoded data removed]",
      "text/plain": [
       "<Figure size 432x288 with 1 Axes>"
      ]
     },
     "metadata": {
      "needs_background": "light"
     },
     "output_type": "display_data"
    }
   ],
   "source": [
    "ax = kmf.plot()\n",
    "ax.plot(ts, ps)"
   ]
  },
  {
   "cell_type": "markdown",
   "metadata": {},
   "source": [
    "They look very similar, but they are not identical, I wonder what the difference is."
   ]
  },
  {
   "cell_type": "code",
   "execution_count": 12,
   "metadata": {},
   "outputs": [
    {
     "data": {
      "text/plain": [
       "163"
      ]
     },
     "execution_count": 12,
     "metadata": {},
     "output_type": "execute_result"
    }
   ],
   "source": [
    "total"
   ]
  },
  {
   "cell_type": "markdown",
   "metadata": {},
   "source": [
    "### What Should we still do"
   ]
  },
  {
   "cell_type": "markdown",
   "metadata": {},
   "source": [
    "I want something presentable that I can share. It doesn't have to go into all the details, just needs to have a couple of worked examples.\n",
    "\n",
    "Do some fake data with a classic case, and try the various techniques.\n",
    "\n",
    "Use both the module and code it yourself."
   ]
  },
  {
   "cell_type": "code",
   "execution_count": null,
   "metadata": {},
   "outputs": [],
   "source": []
  }
 ],
 "metadata": {
  "kernelspec": {
   "display_name": "Python 3",
   "language": "python",
   "name": "python3"
  },
  "language_info": {
   "codemirror_mode": {
    "name": "ipython",
    "version": 3
   },
   "file_extension": ".py",
   "mimetype": "text/x-python",
   "name": "python",
   "nbconvert_exporter": "python",
   "pygments_lexer": "ipython3",
   "version": "3.8.3"
  }
 },
 "nbformat": 4,
 "nbformat_minor": 4
}
