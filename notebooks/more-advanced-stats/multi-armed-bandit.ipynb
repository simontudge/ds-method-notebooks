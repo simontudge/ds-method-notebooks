{
 "cells": [
  {
   "cell_type": "markdown",
   "metadata": {},
   "source": [
    "# Multi-Armed Bandit"
   ]
  },
  {
   "cell_type": "markdown",
   "metadata": {},
   "source": [
    "This is a classic problem in optimisation. The setup is that an agent is faced with multiple bandits (bandits are those kind of gambling machines in which one pulls on a lever and possibly gets reward). Each bandit has a fixed possibility of sucsess (in the simplest version of the problem). The question is simply which is the optimal bandit to choose. This is of course trivial, the agent should choose the bandit with the highest probability of sucsess, except that we do not know the probablity. This is hidden from us.\n",
    "\n",
    "Label the bandits with probabilities P(a), where a labels the bandit in question. With probability P(a) bandit a gives a reward of one, otherwise it gives a reward of zero.\n",
    "\n",
    "The agent has a belief about the probability of bandit a, labeled by Q(A).\n",
    "\n",
    "We could simply pull the arm multiple times and take the mean of rewards to estimate the reward for a given bandit, thus:\n",
    "\n",
    "$$Q_K(a) = \\frac{1}{k}(r_1 + r_2 + ... + r_k)$$\n",
    "\n",
    "The agents belief about p(a), after k trials of that bandit, is the mean of the rewards of previous trials, r_i labels the reward at trial i.\n",
    "\n",
    "A agent that was most interested in information, rather than reward, might try the bandits at random (there may be a more optimal strategy for maximising information). \n",
    "\n",
    "An agent the is most intereseted in imediate reward would always try the bandit with the highest q.\n",
    "\n",
    "The information maximizing agent would in fact gather lots of information, but never be able to use it. The greedy agent would never find out, and would likely get stuck with a sub-optimal bandit.\n",
    "\n",
    "An epsilon greedy agent does the optimal thing, but with probability epsilon, does something at random, this way it can continue to gather information.\n",
    "\n",
    "This is a very simple agent, there is probably something much more optimal, but let's code this."
   ]
  },
  {
   "cell_type": "code",
   "execution_count": 36,
   "metadata": {},
   "outputs": [],
   "source": [
    "import numpy as np\n",
    "import matplotlib.pyplot as plt\n",
    "\n",
    "plt.rcParams[\"figure.figsize\"] = (16,9)"
   ]
  },
  {
   "cell_type": "code",
   "execution_count": 22,
   "metadata": {},
   "outputs": [],
   "source": [
    "class MultiArmedBandit:\n",
    "    \"\"\"\n",
    "    Simplest version of the multi-armed bandit. It has n bandits. The probabilities of which\n",
    "    are chossen at random from a uniform distribution.\n",
    "    \"\"\"\n",
    "    \n",
    "    def __init__(self, n):\n",
    "        self.n = n\n",
    "        self._ps = self._set_ps()\n",
    "        \n",
    "    def _set_ps(self):\n",
    "        return np.random.random(size=self.n)\n",
    "    \n",
    "    def get_reward(self, n):\n",
    "        \"\"\"\n",
    "        Return a reward, either one or zero, for playing bandit n.\n",
    "        \"\"\"\n",
    "        \n",
    "        return 1 if np.random.random() < self._ps[n] else 0"
   ]
  },
  {
   "cell_type": "code",
   "execution_count": 23,
   "metadata": {},
   "outputs": [],
   "source": [
    "class Agent:\n",
    "    \n",
    "    def __init__(self, epsilon, n):\n",
    "        self.n = n\n",
    "        self.epsilon = epsilon\n",
    "        self.qs = np.array([1/2]*self.n)\n",
    "        self.reward = 0\n",
    "        # Number of times each bandit has been played.\n",
    "        self.plays = np.zeros(self.n)\n",
    "\n",
    "    def _max(self):\n",
    "        \"\"\"\n",
    "        Return the bandit with the highest probability of sucsess.\n",
    "        If there is a draw then it defaults to the lowest number.\n",
    "        \"\"\"\n",
    "        \n",
    "        return np.argmax(self.qs)\n",
    "    \n",
    "    def choose_bandit(self):\n",
    "        \"\"\"\n",
    "        Choose a bandit to play.\n",
    "        \"\"\"\n",
    "        \n",
    "        if np.random.random() < self.epsilon:\n",
    "            return np.random.randint(self.n)\n",
    "        else:\n",
    "            return self._max()\n",
    "\n",
    "    def update(self, a, r):\n",
    "        \"\"\"\n",
    "        Update after playing n, recieving reward r\n",
    "        \"\"\"\n",
    "        \n",
    "        self.reward += r\n",
    "        k = self.plays[a]\n",
    "        self.qs[a] = (self.qs[a]*k + r)/(1 + k)\n",
    "        self.plays[a] += 1\n"
   ]
  },
  {
   "cell_type": "markdown",
   "metadata": {},
   "source": [
    "Now we can set the whole thing going in a loop."
   ]
  },
  {
   "cell_type": "code",
   "execution_count": 34,
   "metadata": {},
   "outputs": [],
   "source": [
    "n = 12\n",
    "N = 10000\n",
    "epsilon = 0.1\n",
    "\n",
    "ma = MultiArmedBandit(n)\n",
    "agent = Agent(epsilon, n)\n",
    "\n",
    "running_plays = [np.zeros(n)]\n",
    "\n",
    "rs = []\n",
    "for _ in range(N):\n",
    "    a = agent.choose_bandit()\n",
    "    r = ma.get_reward(a)\n",
    "    rs.append(r)\n",
    "    agent.update(a, r)\n",
    "    running_plays.append(list(agent.plays))\n",
    "\n",
    "max_possible = max(ma._ps)"
   ]
  },
  {
   "cell_type": "code",
   "execution_count": 43,
   "metadata": {},
   "outputs": [
    {
     "data": {
      "text/plain": [
       "[<matplotlib.lines.Line2D at 0x7fd07907fac0>]"
      ]
     },
     "execution_count": 43,
     "metadata": {},
     "output_type": "execute_result"
    },
    {
     "data": {
      "image/png": "[encoded data removed]",
      "text/plain": [
       "<Figure size 1152x648 with 1 Axes>"
      ]
     },
     "metadata": {
      "needs_background": "light"
     },
     "output_type": "display_data"
    }
   ],
   "source": [
    "ax = plt.plot([np.mean(rs[:i]) for i in range(1, len(rs))])\n",
    "plt.plot([0, N], [max_possible]*2, '--', color='red')"
   ]
  },
  {
   "cell_type": "markdown",
   "metadata": {},
   "source": [
    "### Other Strategies"
   ]
  },
  {
   "cell_type": "markdown",
   "metadata": {},
   "source": [
    "This simple strategy is a bit wasteful, at the beginning it might choose something that it thinks is optimal, based on one or very few observations. Later it wastes time continually trying new things even though the answer has become quite certain.\n",
    "\n",
    "The simplest solution to this would be to have epsilon decrease with time. Start high, and then decrease.\n",
    "\n",
    "Another option is an upper bound algorithm. Rather than taking the best guess for a given option as our belief, we use an upper bound. We take the highest probability that a bandit could be, within some bound, e.g. we might say that there is at least a 5% chance that option 3 has p of 0.9. The more times we have played a certain option the lower the upper bound is, thus this strategy encourages us to play those options that we have done few times before.\n",
    "\n",
    "The upper threshold can be set with something called Hoefding's inequality. You must choose how uncertain (or alternatively how optimistic) you want to be."
   ]
  },
  {
   "cell_type": "markdown",
   "metadata": {},
   "source": [
    "#### Upper Bound Strategie"
   ]
  },
  {
   "cell_type": "markdown",
   "metadata": {},
   "source": [
    "The strategy is to put an upper bound on the probability of p < x, and find the x such that this probability is small. In other words we are reasonably certain that p cannot be less than some upper bound, and typically set this probability as quite small.\n",
    "\n",
    "We can use general upper bound theorems for unknown class of distibutions, but here we are assuming that the distrubution is uniform and in [0,1]. To solve this we can use the Hoefding's inequality. It puts a bound on how far a sample mean can be from an actual mean.\n",
    "\n",
    "The formular is:\n",
    "\n",
    "\n",
    "$$\\epsilon = \\sqrt{\\frac{-log(p)}{2n}}$$"
   ]
  },
  {
   "cell_type": "markdown",
   "metadata": {},
   "source": [
    "It says that the difference between our sample mean, and the real mean, $\\epsilon$ is at most that much, where p is the probability that we choose, and n is the number of trials that we have conducted. So we add this amount to our q(a), i.e. we overestimate the probablity of sucsess for each arm of the bandit. Note that this overestimationg becomes increasingly small as we do more and more trials."
   ]
  },
  {
   "cell_type": "markdown",
   "metadata": {},
   "source": [
    "Let's try out this formular in isolation first."
   ]
  },
  {
   "cell_type": "code",
   "execution_count": 73,
   "metadata": {},
   "outputs": [],
   "source": [
    "def upper_bound(q, eps, N):\n",
    "    \"\"\"\n",
    "    Return the upper bound on the probability for a given trial, given that you have an observed mean\n",
    "    of q, and have conducted N. eps is specified by the user, and tells you how optimistic to be. I.e. with\n",
    "    probabilty of at least e the upper bound is this.\n",
    "    \"\"\"\n",
    "    \n",
    "    result = q + np.sqrt(-np.log(eps)/(2*N))\n",
    "    if result > 1:\n",
    "        return 1\n",
    "    else:\n",
    "        return result"
   ]
  },
  {
   "cell_type": "code",
   "execution_count": 82,
   "metadata": {},
   "outputs": [],
   "source": [
    "p = 0.3\n",
    "def trial(p):\n",
    "    return 1 if np.random.random() < p else 0"
   ]
  },
  {
   "cell_type": "code",
   "execution_count": 85,
   "metadata": {},
   "outputs": [
    {
     "name": "stderr",
     "output_type": "stream",
     "text": [
      "<ipython-input-73-9fb60b784347>:8: RuntimeWarning: divide by zero encountered in double_scalars\n",
      "  result = q + np.sqrt(-np.log(eps)/(2*N))\n"
     ]
    }
   ],
   "source": [
    "# our initial guess for the probability is a half.\n",
    "q = 0.5\n",
    "qs = [q]\n",
    "total_trials = 10001\n",
    "eps = 0.05\n",
    "ub = upper_bound(q, eps, 0)\n",
    "ubs = [ub]\n",
    "for k in range(total_trials):\n",
    "    r = trial(p)\n",
    "    q = (q*k + r)/(1 + k)\n",
    "    qs.append(q)\n",
    "    ub = upper_bound(q, eps, k)\n",
    "    ubs.append(ub)"
   ]
  },
  {
   "cell_type": "code",
   "execution_count": 86,
   "metadata": {},
   "outputs": [
    {
     "data": {
      "text/plain": [
       "[<matplotlib.lines.Line2D at 0x7fd07aaf4610>]"
      ]
     },
     "execution_count": 86,
     "metadata": {},
     "output_type": "execute_result"
    },
    {
     "data": {
      "image/png": "[encoded data removed]",
      "text/plain": [
       "<Figure size 1152x648 with 1 Axes>"
      ]
     },
     "metadata": {
      "needs_background": "light"
     },
     "output_type": "display_data"
    }
   ],
   "source": [
    "plt.plot(qs)\n",
    "plt.plot(ubs)\n",
    "plt.plot([0, total_trials], [p]*2, '--', color='red')\n"
   ]
  },
  {
   "cell_type": "markdown",
   "metadata": {},
   "source": [
    "Let's test this out as a bandit. The implementation is mostly the same, we only need to change the calculation of the qs to add the upper bound. Let's try it out."
   ]
  },
  {
   "cell_type": "code",
   "execution_count": 88,
   "metadata": {},
   "outputs": [],
   "source": [
    "class OptimisticAgent:\n",
    "    \n",
    "    def __init__(self, epsilon, n):\n",
    "        self.n = n\n",
    "        self.epsilon = epsilon\n",
    "        self.qs = np.array([1/2]*self.n)\n",
    "        self.uppers = np.array([1.]*self.n)\n",
    "        self.reward = 0\n",
    "        # Number of times each bandit has been played.\n",
    "        self.plays = np.zeros(self.n)\n",
    "    \n",
    "    def choose_bandit(self):\n",
    "        \"\"\"\n",
    "        Choose a bandit to play.\n",
    "        \"\"\"\n",
    "\n",
    "        return np.argmax(self.uppers)\n",
    "\n",
    "    def update(self, a, r):\n",
    "        \"\"\"\n",
    "        Update after playing n, recieving reward r\n",
    "        \"\"\"\n",
    "        \n",
    "        self.reward += r\n",
    "        k = self.plays[a]\n",
    "        self.qs[a] = (self.qs[a]*k + r)/(1 + k)\n",
    "        self.plays[a] += 1\n",
    "        self.uppers[a] = upper_bound(self.qs[a], self.epsilon, self.plays[a])\n"
   ]
  },
  {
   "cell_type": "code",
   "execution_count": 116,
   "metadata": {},
   "outputs": [],
   "source": [
    "n = 12\n",
    "N = 500000\n",
    "epsilon = 0.01\n",
    "\n",
    "ma = MultiArmedBandit(n)\n",
    "max_possible = max(ma._ps)\n",
    "agent = OptimisticAgent(epsilon, n)\n",
    "\n",
    "running_plays = [np.zeros(n)]\n",
    "\n",
    "running_means = [0] \n",
    "for k in range(N):\n",
    "    a = agent.choose_bandit()\n",
    "    r = ma.get_reward(a)\n",
    "    rs.append(r)\n",
    "    agent.update(a, r)\n",
    "    new_mean = (running_means[-1]*k + r)/(1 + k)\n",
    "    running_means.append(new_mean)\n",
    "    \n",
    "# and run the other one for comparison\n",
    "epsilon = 0.1\n",
    "agent = Agent(epsilon, n)\n",
    "\n",
    "running_plays = [np.zeros(n)]\n",
    "\n",
    "running_means2 = [0] \n",
    "for k in range(N):\n",
    "    a = agent.choose_bandit()\n",
    "    r = ma.get_reward(a)\n",
    "    rs.append(r)\n",
    "    agent.update(a, r)\n",
    "    new_mean = (running_means[-1]*k + r)/(1 + k)\n",
    "    running_means2.append(new_mean)\n"
   ]
  },
  {
   "cell_type": "code",
   "execution_count": 117,
   "metadata": {},
   "outputs": [
    {
     "data": {
      "text/plain": [
       "[<matplotlib.lines.Line2D at 0x7fd0529f0f10>]"
      ]
     },
     "execution_count": 117,
     "metadata": {},
     "output_type": "execute_result"
    },
    {
     "data": {
      "image/png": "[encoded data removed]",
      "text/plain": [
       "<Figure size 1152x648 with 1 Axes>"
      ]
     },
     "metadata": {
      "needs_background": "light"
     },
     "output_type": "display_data"
    }
   ],
   "source": [
    "plt.plot(running_means, color='blue')\n",
    "plt.plot(running_means2, color='orange')\n",
    "plt.plot([0, N], [max_possible]*2, '--', color='red')"
   ]
  },
  {
   "cell_type": "markdown",
   "metadata": {},
   "source": [
    "It's not that"
   ]
  }
 ],
 "metadata": {
  "kernelspec": {
   "display_name": "Python 3",
   "language": "python",
   "name": "python3"
  },
  "language_info": {
   "codemirror_mode": {
    "name": "ipython",
    "version": 3
   },
   "file_extension": ".py",
   "mimetype": "text/x-python",
   "name": "python",
   "nbconvert_exporter": "python",
   "pygments_lexer": "ipython3",
   "version": "3.8.3"
  }
 },
 "nbformat": 4,
 "nbformat_minor": 4
}
