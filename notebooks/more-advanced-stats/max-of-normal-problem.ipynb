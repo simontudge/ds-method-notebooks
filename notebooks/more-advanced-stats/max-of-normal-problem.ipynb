{
 "cells": [
  {
   "cell_type": "markdown",
   "metadata": {},
   "source": [
    "# Max of two means Problem"
   ]
  },
  {
   "cell_type": "markdown",
   "metadata": {},
   "source": [
    "The problem:\n",
    "\n",
    "Imagine we have two normally distributed random variables. They have mean and variance $\\mu_1$, $\\sigma_1$ and $\\mu_2$, $\\sigma_2$ repectively.\n",
    "\n",
    "We then draw once each from both of these distributions and take the max of these two numbers. The procedure is itself a random varible. What is the mean of this second distribution, and how much does it differ from the naive estimate of the mean which is:\n",
    "\n",
    "$$max(\\mu_1, \\mu_2)$$"
   ]
  },
  {
   "cell_type": "markdown",
   "metadata": {},
   "source": [
    "### The Maths"
   ]
  },
  {
   "cell_type": "markdown",
   "metadata": {},
   "source": [
    "Let D1 be the first distrubution, and D2 be the second.\n",
    "\n",
    "D_max is the distrubition that we get from sampling from both distrubtions and taking the max of this.\n",
    "\n",
    "$$D_1(x) = \\phi_{\\mu_1, \\sigma_1}(x)$$\n",
    "\n",
    "where $\\phi$ is the normal distribution with given mean and variance. Similarly for D2.\n",
    "\n",
    "Now we can define D_max. To get a value of x for D_max there are two ways we can do this. We get x for D1 and less than or eqaul to x for D2, or the other way round. So more formally.\n",
    "\n",
    "$$D_{max}(x) = D_1(x)D_2(x'<x) + D_2(x)D_1(x'<x)$$\n",
    "\n",
    "which just says what we have above.\n",
    "\n",
    "Now we can express $D_2(x'<x)$ is infact the cumulative normal distribution, which we usually express with a capital phi, as so:\n",
    "\n",
    "$$D_2(x'<x) = \\Phi(x)$$"
   ]
  },
  {
   "cell_type": "markdown",
   "metadata": {},
   "source": [
    "This $\\Phi$ is the integral of the normal distribution, or the CDF, sometimes called the error function.\n",
    "\n",
    "Now we can express the mean of $D_{max}$\n",
    "\n",
    "$$\\bar{D}_{max}=\\int_{-\\inf}^{\\inf}{xD_{max}(x)}dx\n",
    "$$\n",
    "\n",
    "$$=\\int_{-\\inf}^{\\inf}{x(D_1(x)D_2(x'<x) + D_2(x)D_1(x'<x))}dx$$\n",
    "\n",
    "$$=\\int_{-\\inf}^{\\inf}{x(\\phi_1(x)\\Phi_2(x) + \\phi_2(x)\\Phi_1(x))}dx$$"
   ]
  },
  {
   "cell_type": "markdown",
   "metadata": {},
   "source": [
    "Maybe the above can be simplified via integration by parts?\n",
    "\n",
    "also bare in mind that:\n",
    "\n",
    "$$\\int_{-\\inf}^{\\inf}{x(\\phi_1(x))}dx = \\mu_1$$\n",
    "\n",
    "Now what we wanted was the error in the naive estimate, so finally this is:\n",
    "\n",
    "$$Error = max(\\mu_1, \\mu_2) - \\int_{-\\inf}^{\\inf}{x(\\phi_1(x)\\Phi_2(x) + \\phi_2(x)\\Phi_1(x))}dx$$"
   ]
  },
  {
   "cell_type": "markdown",
   "metadata": {},
   "source": [
    "Now, either we can simplify the integral, or we can numerically integrate it to get the answer.\n",
    "\n",
    "Is this right? Did I make a mistake?"
   ]
  },
  {
   "cell_type": "markdown",
   "metadata": {},
   "source": [
    "### Simulating the problem"
   ]
  },
  {
   "cell_type": "markdown",
   "metadata": {},
   "source": [
    "Let's try to simulate the issue."
   ]
  },
  {
   "cell_type": "code",
   "execution_count": 7,
   "metadata": {},
   "outputs": [],
   "source": [
    "import numpy as np\n",
    "from numpy import random"
   ]
  },
  {
   "cell_type": "code",
   "execution_count": 205,
   "metadata": {},
   "outputs": [],
   "source": [
    "mu1, mu2 = 0.5, 0.5\n",
    "# Not sure what there were supposed to be?\n",
    "sigma1, sigma2 = 1, 1"
   ]
  },
  {
   "cell_type": "code",
   "execution_count": 206,
   "metadata": {},
   "outputs": [],
   "source": [
    "def get_error():\n",
    "\n",
    "    sample_1 = random.normal(mu1, sigma1)\n",
    "    sample_2 = random.normal(mu2, sigma2)\n",
    "\n",
    "    mean_max = max(sample_1, sample_2)\n",
    "    naive_estimate = max(mu1, mu2)\n",
    "\n",
    "    return naive_estimate - mean_max"
   ]
  },
  {
   "cell_type": "code",
   "execution_count": 207,
   "metadata": {},
   "outputs": [],
   "source": [
    "errors = [get_error() for _ in range(10000000)]"
   ]
  },
  {
   "cell_type": "code",
   "execution_count": 208,
   "metadata": {},
   "outputs": [
    {
     "data": {
      "text/plain": [
       "-0.5642245566765915"
      ]
     },
     "execution_count": 208,
     "metadata": {},
     "output_type": "execute_result"
    }
   ],
   "source": [
    "measured_error = np.mean(errors)\n",
    "measured_error"
   ]
  },
  {
   "cell_type": "code",
   "execution_count": 209,
   "metadata": {},
   "outputs": [],
   "source": [
    "import matplotlib.pyplot as plt\n",
    "\n",
    "%matplotlib inline"
   ]
  },
  {
   "cell_type": "code",
   "execution_count": 210,
   "metadata": {},
   "outputs": [
    {
     "data": {
      "text/plain": [
       "(array([2.000000e+00, 4.000000e+00, 2.500000e+01, 1.910000e+02,\n",
       "        1.363000e+03, 7.356000e+03, 3.196000e+04, 1.128380e+05,\n",
       "        3.266600e+05, 7.623020e+05, 1.403695e+06, 1.995571e+06,\n",
       "        2.142068e+06, 1.700444e+06, 9.772000e+05, 3.980790e+05,\n",
       "        1.140340e+05, 2.268700e+04, 3.205000e+03, 2.890000e+02,\n",
       "        2.700000e+01]),\n",
       " array([-6.02557475, -5.57505212, -5.1245295 , -4.67400687, -4.22348425,\n",
       "        -3.77296163, -3.322439  , -2.87191638, -2.42139375, -1.97087113,\n",
       "        -1.52034851, -1.06982588, -0.61930326, -0.16878064,  0.28174199,\n",
       "         0.73226461,  1.18278724,  1.63330986,  2.08383248,  2.53435511,\n",
       "         2.98487773,  3.43540036]),\n",
       " <a list of 21 Patch objects>)"
      ]
     },
     "execution_count": 210,
     "metadata": {},
     "output_type": "execute_result"
    },
    {
     "data": {
      "image/png": "[encoded data removed]",
      "text/plain": [
       "<Figure size 432x288 with 1 Axes>"
      ]
     },
     "metadata": {
      "needs_background": "light"
     },
     "output_type": "display_data"
    }
   ],
   "source": [
    "plt.hist(errors, bins=21)"
   ]
  },
  {
   "cell_type": "markdown",
   "metadata": {},
   "source": [
    "### Get the error from the integral"
   ]
  },
  {
   "cell_type": "markdown",
   "metadata": {},
   "source": [
    "Now let's see if we can get the error from the integral."
   ]
  },
  {
   "cell_type": "code",
   "execution_count": 211,
   "metadata": {},
   "outputs": [],
   "source": [
    "from scipy.stats import norm"
   ]
  },
  {
   "cell_type": "code",
   "execution_count": 212,
   "metadata": {},
   "outputs": [
    {
     "data": {
      "text/plain": [
       "0.19947114020071635"
      ]
     },
     "execution_count": 212,
     "metadata": {},
     "output_type": "execute_result"
    }
   ],
   "source": [
    "x = 0.5\n",
    "x*(norm.pdf(x, mu1, sigma1))"
   ]
  },
  {
   "cell_type": "code",
   "execution_count": 213,
   "metadata": {},
   "outputs": [],
   "source": [
    "def integrand(x, mu1, mu2, sigma1, sigma2):\n",
    "    return x*(norm.pdf(x, mu1, sigma1)*norm.cdf(x, mu2, sigma2)\n",
    "              + norm.pdf(x, mu2, sigma2)*norm.cdf(x, mu1, sigma1)\n",
    "             )"
   ]
  },
  {
   "cell_type": "code",
   "execution_count": 214,
   "metadata": {},
   "outputs": [],
   "source": [
    "x = np.linspace(-10, 10, 1001)\n",
    "y = [integrand(xx, mu1, mu2, sigma1, sigma2) for xx in x]"
   ]
  },
  {
   "cell_type": "code",
   "execution_count": 215,
   "metadata": {},
   "outputs": [
    {
     "data": {
      "text/plain": [
       "[<matplotlib.lines.Line2D at 0x7f893adb7ca0>]"
      ]
     },
     "execution_count": 215,
     "metadata": {},
     "output_type": "execute_result"
    },
    {
     "data": {
      "image/png": "[encoded data removed]",
      "text/plain": [
       "<Figure size 432x288 with 1 Axes>"
      ]
     },
     "metadata": {
      "needs_background": "light"
     },
     "output_type": "display_data"
    }
   ],
   "source": [
    "plt.plot(x, y)"
   ]
  },
  {
   "cell_type": "markdown",
   "metadata": {},
   "source": [
    "Now we could integrate this function. We have to do over the infinite range, but just eyeballing the function it looks like it decays quickly, so we won't have to actually go to far to get a good approximation. Let's try this."
   ]
  },
  {
   "cell_type": "code",
   "execution_count": 216,
   "metadata": {},
   "outputs": [],
   "source": [
    "from scipy.integrate import quad"
   ]
  },
  {
   "cell_type": "markdown",
   "metadata": {},
   "source": [
    "So integrate the above function from -10 to 10."
   ]
  },
  {
   "cell_type": "code",
   "execution_count": 217,
   "metadata": {},
   "outputs": [
    {
     "data": {
      "text/plain": [
       "1.0641895835477564"
      ]
     },
     "execution_count": 217,
     "metadata": {},
     "output_type": "execute_result"
    }
   ],
   "source": [
    "quad(lambda x: integrand(x, mu1, mu2, sigma1, sigma2), -10, 10)[0]"
   ]
  },
  {
   "cell_type": "markdown",
   "metadata": {},
   "source": [
    "See if the answer changes radically if I extend the tails:"
   ]
  },
  {
   "cell_type": "code",
   "execution_count": 218,
   "metadata": {},
   "outputs": [
    {
     "data": {
      "text/plain": [
       "1.0641895835477562"
      ]
     },
     "execution_count": 218,
     "metadata": {},
     "output_type": "execute_result"
    }
   ],
   "source": [
    "quad(lambda x: integrand(x, mu1, mu2, sigma1, sigma2), -100, 100)[0]"
   ]
  },
  {
   "cell_type": "markdown",
   "metadata": {},
   "source": [
    "It doesn't!"
   ]
  },
  {
   "cell_type": "markdown",
   "metadata": {},
   "source": [
    "So now the error term:"
   ]
  },
  {
   "cell_type": "code",
   "execution_count": 219,
   "metadata": {},
   "outputs": [],
   "source": [
    "computed_error = max(mu1, mu2) - quad(lambda x: integrand(x, mu1, mu2, sigma1, sigma2), -10, 10)[0]"
   ]
  },
  {
   "cell_type": "code",
   "execution_count": 220,
   "metadata": {},
   "outputs": [
    {
     "data": {
      "text/plain": [
       "(-0.5642245566765915, -0.5641895835477564)"
      ]
     },
     "execution_count": 220,
     "metadata": {},
     "output_type": "execute_result"
    }
   ],
   "source": [
    "measured_error, computed_error"
   ]
  },
  {
   "cell_type": "markdown",
   "metadata": {},
   "source": [
    "They are pretty damn close man!"
   ]
  }
 ],
 "metadata": {
  "kernelspec": {
   "display_name": "Python 3",
   "language": "python",
   "name": "python3"
  },
  "language_info": {
   "codemirror_mode": {
    "name": "ipython",
    "version": 3
   },
   "file_extension": ".py",
   "mimetype": "text/x-python",
   "name": "python",
   "nbconvert_exporter": "python",
   "pygments_lexer": "ipython3",
   "version": "3.8.3"
  }
 },
 "nbformat": 4,
 "nbformat_minor": 4
}
