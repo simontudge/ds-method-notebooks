{
 "cells": [
  {
   "cell_type": "markdown",
   "id": "c4134a0e",
   "metadata": {},
   "source": [
    "# The Prisoners Riddle"
   ]
  },
  {
   "cell_type": "markdown",
   "id": "b2576762",
   "metadata": {},
   "source": [
    "### Setup"
   ]
  },
  {
   "cell_type": "markdown",
   "id": "9924ded3",
   "metadata": {},
   "source": [
    "An exploration of a counter intuative riddle, best explained [here](https://www.youtube.com/watch?v=iSNsgj1OCLA).\n",
    "\n",
    "Briefly: there are 100 prisoners, each has a number on their chests. They are able to see their own number and the numbers of others. Now there is a room in which there are 100 boxed. Each box also has a number on it, also from 1 to 100. In each box is yet another number on a piece of paper. The number in the box is not necessarily the same as the number on the box.\n",
    "\n",
    "Each prisoner must enter the room one at a time and is allowed to open up to 50 boxes. They must find the piece of paper that has their number on it. If all prisoners find their own number then they are all allowed to go free, if not then the are all executed!\n",
    "\n",
    "In addition, the prisoners are not allowed to confer afterwards about what they have seen. They are, however, allowed to talk about their strategy before hand all together.\n",
    "\n",
    "If they go in and open boxes at random then each prisoner has a probability of 1/2 of finding their own number. HOwever, to win the game they all need to suceed. Each prisoner is an independent trial, so the chance of all prisoners suceeding is an unimaginably small number, namely $(\\frac{1}{2})^{100}$, for all purposes zero.\n",
    "\n",
    "However, there is a strategy that gives them a chance of about 1/3, which is much better. In fact it has been shown that this strategy is optimal, they can't do better than that.\n",
    "\n",
    "Here is the strategy, each prisoner goes into the room and they open the box that corresponds to the number on their chest. So prisoner number 20 opens box number 20. They are not more likley to win with this strategy as it stands as there is no correlation between the numbers on the box and the numbers in the box. Now, they take the paper from the box, and open that box with the number from the paper in their hand. So let's say prisoner 20 opens box 20, in box 20 it says 32, so they open box 32, they repeat this procedure until they find their own number, or they run out of tries. The very strange this is that the probability of each prisoner getting their own number is still 1/, but the probability of them all getting their number is now around 1/3. There is an explanation for this, but let's first simply simulate the situation to test our intuation. Note a simulation is of course not a proof, but we can demonstrate beyond all reasonable doubt that the probability of sucess for everyone is no longer 1/2^100."
   ]
  },
  {
   "cell_type": "markdown",
   "id": "c94389da",
   "metadata": {},
   "source": [
    "### Simulation"
   ]
  },
  {
   "cell_type": "code",
   "execution_count": 1,
   "id": "b1f0926c",
   "metadata": {},
   "outputs": [],
   "source": [
    "import numpy as np"
   ]
  },
  {
   "cell_type": "markdown",
   "id": "11320759",
   "metadata": {},
   "source": [
    "Slightly overkill to make this a class, it's just a dictionary essentially!"
   ]
  },
  {
   "cell_type": "code",
   "execution_count": 26,
   "id": "c6e13a4f",
   "metadata": {},
   "outputs": [],
   "source": [
    "class BoxRoom:\n",
    "    \n",
    "    def __init__(self, size=100):\n",
    "        \n",
    "        self.size = size\n",
    "        ints = np.random.choice(range(1, 101), size=100, replace=False)\n",
    "        self.boxes = {i + 1: ints[i] for i in range(size)}\n",
    "        \n",
    "    def __getitem__(self, key):\n",
    "        return self.boxes[key]"
   ]
  },
  {
   "cell_type": "code",
   "execution_count": 47,
   "id": "ad3d8865",
   "metadata": {},
   "outputs": [
    {
     "data": {
      "text/plain": [
       "50"
      ]
     },
     "execution_count": 47,
     "metadata": {},
     "output_type": "execute_result"
    }
   ],
   "source": [
    "br = BoxRoom()\n",
    "br[12]"
   ]
  },
  {
   "cell_type": "code",
   "execution_count": 48,
   "id": "5e160eb1",
   "metadata": {},
   "outputs": [],
   "source": [
    "prisoners = np.random.choice(range(1, 101), size=100, replace=False)"
   ]
  },
  {
   "cell_type": "code",
   "execution_count": 68,
   "id": "e6bf06ad",
   "metadata": {},
   "outputs": [],
   "source": [
    "def prisoner_trial(prisoner, br, limit=50):\n",
    "    \"\"\"\n",
    "    Simulates a trial for the prisoner. Returns true if sucessful, false if not.\n",
    "    \"\"\"\n",
    "    \n",
    "    is_found = False\n",
    "    trials = 0\n",
    "    current_number = prisoner\n",
    "    while (not is_found) and (trials < limit):\n",
    "        current_number = br[current_number]\n",
    "        trials += 1\n",
    "        if current_number == prisoner:\n",
    "            is_found = True\n",
    "    return is_found"
   ]
  },
  {
   "cell_type": "markdown",
   "id": "d743db76",
   "metadata": {},
   "source": [
    "Now write a function to go through all the prisoners, return the number of sucessful prisoners."
   ]
  },
  {
   "cell_type": "code",
   "execution_count": 71,
   "id": "8d095982",
   "metadata": {},
   "outputs": [],
   "source": [
    "def trial_all(prisoners, br):\n",
    "    sucesses = []\n",
    "    for prisoner in prisoners:\n",
    "        sucesses.append(prisoner_trial(prisoner, br))\n",
    "    return sum(sucesses)"
   ]
  },
  {
   "cell_type": "markdown",
   "id": "ac061b55",
   "metadata": {},
   "source": [
    "OK, and let's do the whole thing multiple times,  interested in the distribution of the number of sucesses, and ultimately in the total in which they are all sucesses."
   ]
  },
  {
   "cell_type": "code",
   "execution_count": 80,
   "id": "e15c4987",
   "metadata": {},
   "outputs": [],
   "source": [
    "reps = 10001\n",
    "wins = []\n",
    "for i in range(reps):\n",
    "    prisoners = np.random.choice(range(1, 101), size=100, replace=False)\n",
    "    br = BoxRoom()\n",
    "    wins.append(trial_all(prisoners, br))"
   ]
  },
  {
   "cell_type": "markdown",
   "id": "5c86bc17",
   "metadata": {},
   "source": [
    "We can already see that we have some 100 sucesses in our list, and the random strategy says that you would never see that. And indeed this is more like 30% as we predicted."
   ]
  },
  {
   "cell_type": "code",
   "execution_count": 86,
   "id": "672b2fec",
   "metadata": {},
   "outputs": [
    {
     "data": {
      "text/plain": [
       "0.3093690630936906"
      ]
     },
     "execution_count": 86,
     "metadata": {},
     "output_type": "execute_result"
    }
   ],
   "source": [
    "wins.count(100)/len(wins)"
   ]
  },
  {
   "cell_type": "markdown",
   "id": "e6f5aa7c",
   "metadata": {},
   "source": [
    "And let's look at the distribution of these wins. What does it look like?"
   ]
  },
  {
   "cell_type": "code",
   "execution_count": 85,
   "id": "523acd44",
   "metadata": {},
   "outputs": [
    {
     "data": {
      "image/png": "[encoded data removed]",
      "text/plain": [
       "<Figure size 1152x648 with 1 Axes>"
      ]
     },
     "metadata": {
      "needs_background": "light"
     },
     "output_type": "display_data"
    }
   ],
   "source": [
    "import matplotlib.pyplot as plt\n",
    "\n",
    "plt.subplots(figsize = (16, 9))\n",
    "plt.hist(wins, bins=100);"
   ]
  },
  {
   "cell_type": "markdown",
   "id": "f4016341",
   "metadata": {},
   "source": [
    "So that's interesting. There are actually a lot of instances where this strategy does a lot worse than random in terms of the total wins. But this game doesn't reward almost, so you can see that the times when we get all right are quite common. This is a weird distribution though right."
   ]
  },
  {
   "cell_type": "markdown",
   "id": "18bbf19b",
   "metadata": {},
   "source": [
    "We can see that the mean wins is still about 1/2, so we actually haven't altered this at all, it is the shape of the distribution that we have changed."
   ]
  },
  {
   "cell_type": "code",
   "execution_count": 88,
   "id": "99171ee1",
   "metadata": {},
   "outputs": [
    {
     "data": {
      "text/plain": [
       "49.99450054994501"
      ]
     },
     "execution_count": 88,
     "metadata": {},
     "output_type": "execute_result"
    }
   ],
   "source": [
    "np.mean(wins)"
   ]
  },
  {
   "cell_type": "markdown",
   "id": "20edb2dd",
   "metadata": {},
   "source": [
    "### Explanation"
   ]
  },
  {
   "cell_type": "markdown",
   "id": "e8dbb2ec",
   "metadata": {},
   "source": [
    "Now why is this?\n",
    "\n",
    "We can think of the room full of boxes as contianing loops. For example, box 7 opens box 12, opens box 57, opens box 62, opens box 2, opens box 17, opens box 7 again, and we've gone full circle. The prisoner stops at at the last stage of the loop as by design the last step is the prisoners own number. The 'algorithm' that they follow always puts them on the loop which contains their own number by design. So they are gaurenteed to find that number if they follow that loop until completion. However, they are as far away within that loop from their own number as is possilbe, so they will only get to their own number if the loop that contains their number is 50 steps or less. So for each prisoner the condition for their own sucess is that their own loop has 50 or less steps in it.\n",
    "\n",
    "Now consider the arrangement of the room, as all numbers are sampled eventually by all the prisoners (as they all have different numbers), then they will sample all loops that are in the room. They will then all succeed if the setup of the room has no loops that are greater than 50. At least some will be unsucsesful if there is at least one loop greater than 50. Note of course that there will actually only ever be one loop that is greater than 50. So the probability for sucess for the whole procedure is that the biggest loop in the setup is 50 or less.\n",
    "\n",
    "We can work out this probability actually, but let's have a look at some randomly generated rooms and ask how big the biggest loop is in each case."
   ]
  },
  {
   "cell_type": "code",
   "execution_count": 131,
   "id": "d6418c02",
   "metadata": {},
   "outputs": [],
   "source": [
    "def biggest_loop(br):\n",
    "    sampled_numbers = set()\n",
    "    # We'll work out the size of the loop for every starting number, but note that we can also record\n",
    "    # numbers that we have already visited, this isn't strictly necessary, but speeds things up.\n",
    "    biggest_loop = 0\n",
    "    for i in range(1, 101):\n",
    "        if i in sampled_numbers:\n",
    "            continue\n",
    "        loop_out = False\n",
    "        current_number = i\n",
    "        loop_size = 0\n",
    "        while not loop_out:\n",
    "            loop_size += 1\n",
    "            current_number = br[current_number]\n",
    "            sampled_numbers.add(current_number)\n",
    "            if current_number == i:\n",
    "                loop_out = True\n",
    "        if loop_size > biggest_loop:\n",
    "            biggest_loop = loop_size\n",
    "    return biggest_loop\n",
    "            "
   ]
  },
  {
   "cell_type": "markdown",
   "id": "41d2cd95",
   "metadata": {},
   "source": [
    "An interesting thing to note is that the code for finding the biggest loop is actually quite similar to the code I wrote for the prisoners to sample the boxes. This is no coincidence. The prisoners are in effect running an algorithm to find the size of the biggest loop (or more precisely to query if the biggest loop is greater than 50)."
   ]
  },
  {
   "cell_type": "markdown",
   "id": "1406b414",
   "metadata": {},
   "source": [
    "And now let's look at this distribution."
   ]
  },
  {
   "cell_type": "code",
   "execution_count": 132,
   "id": "15f283dd",
   "metadata": {},
   "outputs": [],
   "source": [
    "biggest_loop_sizes = []\n",
    "reps = 50000\n",
    "for r in range(reps):\n",
    "    br = BoxRoom()\n",
    "    biggest_loop_sizes.append(biggest_loop(br))"
   ]
  },
  {
   "cell_type": "code",
   "execution_count": 133,
   "id": "34292f63",
   "metadata": {},
   "outputs": [
    {
     "data": {
      "text/plain": [
       "62.8481"
      ]
     },
     "execution_count": 133,
     "metadata": {},
     "output_type": "execute_result"
    }
   ],
   "source": [
    "np.mean(biggest_loop_sizes)"
   ]
  },
  {
   "cell_type": "markdown",
   "id": "a36144cd",
   "metadata": {},
   "source": [
    "And how often is the biggest loop greater than 50."
   ]
  },
  {
   "cell_type": "code",
   "execution_count": 134,
   "id": "9337e4fb",
   "metadata": {},
   "outputs": [
    {
     "data": {
      "text/plain": [
       "0.31026"
      ]
     },
     "execution_count": 134,
     "metadata": {},
     "output_type": "execute_result"
    }
   ],
   "source": [
    "np.mean([m <= 50 for m in biggest_loop_sizes ])"
   ]
  },
  {
   "cell_type": "code",
   "execution_count": 136,
   "id": "4b26732e",
   "metadata": {},
   "outputs": [
    {
     "data": {
      "text/plain": [
       "1.0659999999999998"
      ]
     },
     "execution_count": 136,
     "metadata": {},
     "output_type": "execute_result"
    }
   ],
   "source": [
    "biggest_loop_sizes.count(100)/len(biggest_loop_sizes) * 100"
   ]
  },
  {
   "cell_type": "code",
   "execution_count": 137,
   "id": "e9b3adf4",
   "metadata": {},
   "outputs": [
    {
     "data": {
      "image/png": "[encoded data removed]",
      "text/plain": [
       "<Figure size 1152x648 with 1 Axes>"
      ]
     },
     "metadata": {
      "needs_background": "light"
     },
     "output_type": "display_data"
    }
   ],
   "source": [
    "plt.subplots(figsize = (16, 9))\n",
    "plt.hist(biggest_loop_sizes, bins=max(biggest_loop_sizes) - min(biggest_loop_sizes) + 1, density=True);"
   ]
  },
  {
   "cell_type": "code",
   "execution_count": null,
   "id": "9865ed41",
   "metadata": {},
   "outputs": [],
   "source": []
  },
  {
   "cell_type": "markdown",
   "id": "e42ea84a",
   "metadata": {},
   "source": [
    "Which is  the answer we were looking for. So we sort of shown it, but maybe we can go deeper."
   ]
  },
  {
   "cell_type": "markdown",
   "id": "8785eee9",
   "metadata": {},
   "source": [
    "### Sketch of a proof"
   ]
  },
  {
   "cell_type": "markdown",
   "id": "01f61070",
   "metadata": {},
   "source": [
    "So I think we have convinced ourselves that the probability of sucess for all prisoners is the same as the probability of the room not having a loop larger than 50. This is clear, but can formalise this a little bit. Specifically can we calculate this probabilty without simulation?\n",
    "\n",
    "Start with a smaller problem. What is the probability that the largest loop is a given size, say n. For simplicity let's say 50 < n <=100. because that is all we will need, and for less than 50 it is more difficult to compute."
   ]
  },
  {
   "cell_type": "markdown",
   "id": "4c5d29f9",
   "metadata": {},
   "source": [
    "Let's think of the probability that our loop is exactly 100 long."
   ]
  },
  {
   "cell_type": "markdown",
   "id": "1d6de047",
   "metadata": {},
   "source": [
    "Pick a random number, let's say it is 1, for simplicity. Now the proability that the loop is not closed is 99/100, only one number would close this loop, the loop cannot be closed otherwise this loop would not be 100 long. Next we need that the loop is not closed, which is to say that the number in the next box is also not 1. The chance of it not being 1 again is 98/99 (one number is no longer possible, we are effectively sampling without replacement). We need this to happen 99 times, each each time the loop is not closed. The final 100th step then closes the loop.\n",
    "\n",
    "So we have:  $$\\Pi_{i=1}^{99}\\frac{100 - i}{100 - i + 1}$$"
   ]
  },
  {
   "cell_type": "markdown",
   "id": "b456ee9c",
   "metadata": {},
   "source": [
    "Let's simply compute this."
   ]
  },
  {
   "cell_type": "code",
   "execution_count": 142,
   "id": "a428209b",
   "metadata": {},
   "outputs": [],
   "source": [
    "from functools import reduce"
   ]
  },
  {
   "cell_type": "code",
   "execution_count": 144,
   "id": "649ac1b7",
   "metadata": {},
   "outputs": [
    {
     "data": {
      "text/plain": [
       "0.009999999999999983"
      ]
     },
     "execution_count": 144,
     "metadata": {},
     "output_type": "execute_result"
    }
   ],
   "source": [
    "reduce(lambda x, y: x*y, [(100 - i)/(100 - i + 1) for i in range(1, 100)])"
   ]
  },
  {
   "cell_type": "markdown",
   "id": "905d011f",
   "metadata": {},
   "source": [
    "In fact the answer is 1/100, seems to be a small rounding error. But we can see that a bit more formally by noting that the above equation is $\\frac{99!}{100!} = \\frac{1}{100}$.\n",
    "\n",
    "So we can conclude that the chance that the biggest loop is 100 is 1%, or that the biggest loop is less than 100 is 99%."
   ]
  },
  {
   "cell_type": "markdown",
   "id": "a843e17e",
   "metadata": {},
   "source": [
    "The video claims that the probability of the largest loop being size n is 1/n, (provided n>50). The above arguement I used doesn't simply generalise, because with a loop of something other than 100 we have to think about the fact that we choose a random number we might not be on the loop.\n",
    "\n",
    "Let's think about the case of 99. This is again somewhat special. For this to happen we need a loop of 99 plus one self loop, say the box 1 points back to one.\n",
    "\n",
    "The probability that 1 points to 1 is 1/100.\n",
    "\n",
    "The probability that the remaining 99 boxes form a loop is using the same logic as before: $\\frac{98!}{99!}$ (becauce we are asking that 99 boxes for a loop now, so we can do the same logic as before but replace 100 with 99. Thus the probability that a group of 99 boxes forms a complete loop is 1/99. So the proability that box one points to itself, and that the others form a complete loop is 1/100*1/99. But we don't care which box forms the self loop, so there are 100 different ways to set this out in fact, so we can multiply by 100, and get back to 1/99. So the formular 1/n also holds for n=99."
   ]
  },
  {
   "cell_type": "markdown",
   "id": "5f20237e",
   "metadata": {},
   "source": [
    "Does it also hold more generally? Let's calcualte something more specific. Let's say I choose m boxes at random, what is the chance that every single box in that set of boxes that I choose points to a box that is also within that set. Thus this set forms a closed set of boxes. Note I'm not asking that they form a single loop, they could all point to themselves, or anything in between. The first box has a probability of m/100 of pointing to something in that box. The next box has a probability of (m-1)/99, and so on. For every box in that set to point to another box in that set the probability is $$\\frac{m!}{\\frac{100!}{(100 - m)!}} = \\frac{m!*(100 - m)!}{100!}$$\n",
    "\n",
    "and further note that this is the inverse of the \"choose\" function, the number of ways of choosing n items from a set of size 100.\n",
    "\n",
    "$$C_{m}^{100} = C(m, 100)$$\n",
    "\n",
    "Now the remaining boxes, what is the probability that they form a \"mega-loop\" in that they form a single loop. We know already that this is a closed set by extention, if all the other boxes are a closed set, then this must be one too. So we can use the logic that we had before with the group of 100, the probability that a closed set of n boxes forms a single loop is simply 1/100.\n",
    "\n",
    "So the probability that the room of boxes has a biggest loop of size n with a given configuration (i.e. we specify which boxes are in the loop) is the probability that the first m = (100 - n) boxes form a closed set, and then that the remaining boxes form a single loop is:\n",
    "\n",
    "$$\\frac{1}{C(100 - n, 100})*\\frac{1}{n}$$\n",
    "\n",
    "and note that due to the symetry of the choose function we can also write this as:\n",
    "\n",
    "$$\\frac{1}{C(n, 100})*\\frac{1}{n}$$\n",
    "\n",
    "so this is the probability of finding a biggest loop of size n for a certain configuration, so say I ask the probability of a loop of size 95, but I specify that this consists specifically of the numbers 1 to 95. This is not exactly what we want, but to get to the final answer we simply have to multiply this by the number of specific configurations that there are, there are infact $C(n, 100)$ ways to have this arrangement, so the choice function drops out in each case:\n",
    "\n",
    "and \n",
    "\n",
    "$$p(n) = \\frac{1}{n}$$"
   ]
  },
  {
   "cell_type": "markdown",
   "id": "b1935199",
   "metadata": {},
   "source": [
    "Let's draw this curve against our data as a sanity check."
   ]
  },
  {
   "cell_type": "code",
   "execution_count": 161,
   "id": "27e9755e",
   "metadata": {},
   "outputs": [
    {
     "data": {
      "text/plain": [
       "[<matplotlib.lines.Line2D at 0x7f96e0a9b070>]"
      ]
     },
     "execution_count": 161,
     "metadata": {},
     "output_type": "execute_result"
    },
    {
     "data": {
      "image/png": "[encoded data removed]",
      "text/plain": [
       "<Figure size 1152x648 with 1 Axes>"
      ]
     },
     "metadata": {
      "needs_background": "light"
     },
     "output_type": "display_data"
    }
   ],
   "source": [
    "plt.subplots(figsize = (16, 9))\n",
    "plt.hist(biggest_loop_sizes, bins=max(biggest_loop_sizes) - min(biggest_loop_sizes) + 1, density=True);\n",
    "x = np.linspace(50, 100, 100)\n",
    "y = [1/xx for xx in x]\n",
    "plt.plot(x, y, color='black')"
   ]
  },
  {
   "cell_type": "markdown",
   "id": "aa6c78e2",
   "metadata": {},
   "source": [
    "Now note that techincally this is a proof that there is at least one loop of size n, and not that the biggest loop is is of size n, and this formular will hold for all n. But if there is a loop of size n for n > 50 then this must be the biggest loop. That is why the formular holds only for n > 50.\n",
    "\n",
    "Phew.\n",
    "\n",
    "So what is the probability of all the prisoners finding their number. This is simply the probability that the biggest loop is not 100 and not 99 and not 98 etc, down to 51.\n",
    "\n",
    "So:\n",
    "\n",
    "$$p=1 - \\sum_{i=51}^{100}\\frac{1}{i}$$"
   ]
  },
  {
   "cell_type": "markdown",
   "id": "c97b7b09",
   "metadata": {},
   "source": [
    "And we can do this simply numerically:"
   ]
  },
  {
   "cell_type": "code",
   "execution_count": 162,
   "id": "54204b15",
   "metadata": {},
   "outputs": [
    {
     "data": {
      "text/plain": [
       "0.3118278206898051"
      ]
     },
     "execution_count": 162,
     "metadata": {},
     "output_type": "execute_result"
    }
   ],
   "source": [
    "1 - sum([1/i for i in range(51, 101)])"
   ]
  },
  {
   "cell_type": "markdown",
   "id": "5fd1b935",
   "metadata": {},
   "source": [
    "And that is our answer."
   ]
  },
  {
   "cell_type": "markdown",
   "id": "13a61589",
   "metadata": {},
   "source": [
    "### Small Extention"
   ]
  },
  {
   "cell_type": "markdown",
   "id": "df1b2867",
   "metadata": {},
   "source": [
    "The number 100 seems pretty arbitrary, what happens for other values. You can look through the proof above and find simply replace 100 with whatever. Let's call it m. We only require that m be even (otherwise the setup doesn't quite work).\n",
    "\n",
    "Now:\n",
    "\n",
    "$$p=1 - \\sum_{i=\\frac{m}{2} + 1}^{m}\\frac{1}{i}$$"
   ]
  },
  {
   "cell_type": "code",
   "execution_count": 155,
   "id": "4125361d",
   "metadata": {},
   "outputs": [],
   "source": [
    "def p(m):\n",
    "    assert m%2 == 0\n",
    "    return 1 - sum([1/i for i in range(int(m/2 + 1), m)])"
   ]
  },
  {
   "cell_type": "code",
   "execution_count": 163,
   "id": "29c32a3c",
   "metadata": {},
   "outputs": [
    {
     "data": {
      "text/plain": [
       "0.3083525694401802"
      ]
     },
     "execution_count": 163,
     "metadata": {},
     "output_type": "execute_result"
    }
   ],
   "source": [
    "p(1000)"
   ]
  },
  {
   "cell_type": "code",
   "execution_count": 173,
   "id": "db0335ad",
   "metadata": {},
   "outputs": [],
   "source": [
    "x = range(100, 10000, 2)\n",
    "y = [p(xx) for xx in x]"
   ]
  },
  {
   "cell_type": "code",
   "execution_count": 174,
   "id": "45fb81d9",
   "metadata": {},
   "outputs": [
    {
     "data": {
      "text/plain": [
       "[<matplotlib.lines.Line2D at 0x7f96d9b11520>]"
      ]
     },
     "execution_count": 174,
     "metadata": {},
     "output_type": "execute_result"
    },
    {
     "data": {
      "image/png": "[encoded data removed]",
      "text/plain": [
       "<Figure size 1152x648 with 1 Axes>"
      ]
     },
     "metadata": {
      "needs_background": "light"
     },
     "output_type": "display_data"
    }
   ],
   "source": [
    "plt.subplots(figsize = (16, 9))\n",
    "plt.plot(x, y)"
   ]
  },
  {
   "cell_type": "markdown",
   "id": "57a23468",
   "metadata": {},
   "source": [
    "It assymptotes to some value. In fact our sum tends to an integral as m goes to infinity. The integral is: \n",
    "\n",
    "$$1 - \\int_{\\frac{1}{2}}^{1}{\\frac{1}{x}}dx = 1 - ln(2)$$"
   ]
  },
  {
   "cell_type": "markdown",
   "id": "b2fee653",
   "metadata": {},
   "source": [
    "Which is:"
   ]
  },
  {
   "cell_type": "code",
   "execution_count": 168,
   "id": "67633510",
   "metadata": {},
   "outputs": [
    {
     "data": {
      "text/plain": [
       "0.3068528194400547"
      ]
     },
     "execution_count": 168,
     "metadata": {},
     "output_type": "execute_result"
    }
   ],
   "source": [
    "1 - np.log(2)"
   ]
  },
  {
   "cell_type": "markdown",
   "id": "b831de3a",
   "metadata": {},
   "source": [
    "Which seems about right. As the numbers get bigger the chance of sucess gets a bit smaller, but it doesn't diminish all that much, and never gets smaller than ln(2) (about 30%)."
   ]
  },
  {
   "cell_type": "markdown",
   "id": "e7af5d5a",
   "metadata": {},
   "source": [
    "Done!"
   ]
  }
 ],
 "metadata": {
  "kernelspec": {
   "display_name": "Python 3 (ipykernel)",
   "language": "python",
   "name": "python3"
  },
  "language_info": {
   "codemirror_mode": {
    "name": "ipython",
    "version": 3
   },
   "file_extension": ".py",
   "mimetype": "text/x-python",
   "name": "python",
   "nbconvert_exporter": "python",
   "pygments_lexer": "ipython3",
   "version": "3.9.7"
  }
 },
 "nbformat": 4,
 "nbformat_minor": 5
}
